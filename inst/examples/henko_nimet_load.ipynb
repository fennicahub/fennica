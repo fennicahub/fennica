{
 "cells": [
  {
   "cell_type": "code",
   "execution_count": 3,
   "id": "0523b1d0",
   "metadata": {},
   "outputs": [],
   "source": [
    "import requests\n",
    "import pandas as pd\n",
    "from rdflib import Graph, Namespace\n",
    "from rdflib import Graph, Namespace, URIRef"
   ]
  },
  {
   "cell_type": "code",
   "execution_count": 5,
   "id": "a7ad022e",
   "metadata": {},
   "outputs": [],
   "source": [
    "# Download the RDF/XML data\n",
    "url = \"https://ldf.fi/henko/data?graph=http://ldf.fi/henko/nimet/\"\n",
    "response = requests.get(url)\n",
    "\n",
    "# Save to file\n",
    "with open(\"henko_nimet.rdf\", \"wb\") as f:\n",
    "    f.write(response.content)\n"
   ]
  },
  {
   "cell_type": "code",
   "execution_count": 6,
   "id": "56bf2742",
   "metadata": {},
   "outputs": [
    {
     "name": "stdout",
     "output_type": "stream",
     "text": [
      "PREFIX dcterms: <http://purl.org/dc/terms/>\n",
      "PREFIX ent:     <http://www.w3.org/ns/entailment/>\n",
      "PREFIX foaf:    <http://xmlns.com/foaf/0.1/>\n",
      "PREFIX ldf:     <http://ldf.fi/schema/ldf/>\n",
      "PREFIX ns1:     <http://ldf.fi/schema/henko/>\n",
      "PREFIX ns2:     <http://www.w3.org/2004/02/skos/core#>\n",
      "PREFIX ns3:     <http://purl.org/dc/terms/>\n",
      "PREFIX ns4:     <http://www.w3.org/2002/07/owl#>\n",
      "PREFIX ns5:     <https://www.wikidata.org/prop/direct/>\n",
      "PREFIX rdfs:    <http://www.w3.org/2000/01/rdf-schema#>\n",
      "PREFIX sd:\n"
     ]
    }
   ],
   "source": [
    "with open(\"henko_nimet.rdf\", \"rb\") as f:\n",
    "    head = f.read(500)\n",
    "    print(head.decode(\"utf-8\", errors=\"replace\"))"
   ]
  },
  {
   "cell_type": "code",
   "execution_count": 9,
   "id": "fde57702",
   "metadata": {},
   "outputs": [],
   "source": [
    "from rdflib import Graph, Namespace\n",
    "\n",
    "# Load the data\n",
    "g = Graph()\n",
    "g.parse(\"https://ldf.fi/henko/data?graph=http://ldf.fi/henko/nimet/\", format=\"turtle\")\n",
    "\n",
    "# Define namespaces\n",
    "NS1 = Namespace(\"http://ldf.fi/schema/henko/\")\n",
    "SCHEMA = Namespace(\"http://schema.org/\")\n",
    "SKOS = Namespace(\"http://www.w3.org/2004/02/skos/core#\")\n",
    "\n",
    "# SPARQL query to extract names and gender\n",
    "query = \"\"\"\n",
    "PREFIX ns1: <http://ldf.fi/schema/henko/>\n",
    "PREFIX schema: <http://schema.org/>\n",
    "PREFIX skos: <http://www.w3.org/2004/02/skos/core#>\n",
    "\n",
    "SELECT ?name ?genderLabel WHERE {\n",
    "  ?usage a ns1:GivenNameUsage ;\n",
    "         ns1:gender ?genderURI ;\n",
    "         ns1:hasName ?nameURI .\n",
    "\n",
    "  ?nameURI skos:prefLabel ?name .\n",
    "\n",
    "  FILTER(LANG(?name) = \"fi\")\n",
    "\n",
    "  BIND(REPLACE(STR(?genderURI), \"http://schema.org/\", \"\") AS ?genderLabel)\n",
    "}\n",
    "\"\"\"\n"
   ]
  },
  {
   "cell_type": "code",
   "execution_count": 10,
   "id": "75d710e7",
   "metadata": {},
   "outputs": [
    {
     "name": "stdout",
     "output_type": "stream",
     "text": [
      "✅ RDF graph loaded with 3252695 triples.\n"
     ]
    }
   ],
   "source": [
    "print(f\"✅ RDF graph loaded with {len(g)} triples.\")\n"
   ]
  },
  {
   "cell_type": "code",
   "execution_count": 11,
   "id": "9862741f",
   "metadata": {},
   "outputs": [
    {
     "name": "stdout",
     "output_type": "stream",
     "text": [
      "Juhani - Male\n",
      "Olavi - Male\n",
      "Petteri - Male\n",
      "Otto - Male\n",
      "Niilas - Male\n",
      "Jeanette - Female\n",
      "Christel - Female\n",
      "Josefine - Female\n",
      "Catharina - Female\n",
      "Serafia - Female\n"
     ]
    }
   ],
   "source": [
    "\n",
    "# Run the query\n",
    "results = g.query(query)\n",
    "\n",
    "# Convert to list of tuples\n",
    "data = [(str(row.name), str(row.genderLabel)) for row in results]\n",
    "\n",
    "# Print some sample data\n",
    "for name, gender in data[:10]:\n",
    "    print(f\"{name} - {gender}\")\n"
   ]
  },
  {
   "cell_type": "code",
   "execution_count": 12,
   "id": "88035573",
   "metadata": {},
   "outputs": [
    {
     "name": "stdout",
     "output_type": "stream",
     "text": [
      "Total names extracted: 106524\n"
     ]
    }
   ],
   "source": [
    "print(f\"Total names extracted: {len(data)}\")\n"
   ]
  },
  {
   "cell_type": "code",
   "execution_count": 14,
   "id": "5b6e846b",
   "metadata": {},
   "outputs": [],
   "source": [
    "import pandas as pd\n",
    "\n",
    "df = pd.DataFrame(data, columns=[\"name\", \"gender\"])\n",
    "df.to_csv(\"henko_name_gender.csv\", index=False)\n",
    "\n"
   ]
  },
  {
   "cell_type": "code",
   "execution_count": 15,
   "id": "7233b22c",
   "metadata": {},
   "outputs": [
    {
     "name": "stdout",
     "output_type": "stream",
     "text": [
      "gender\n",
      "Female    59096\n",
      "Male      47428\n",
      "Name: count, dtype: int64\n",
      "      name gender\n",
      "0   Juhani   Male\n",
      "1    Olavi   Male\n",
      "2  Petteri   Male\n",
      "3     Otto   Male\n",
      "4   Niilas   Male\n"
     ]
    }
   ],
   "source": [
    "print(df[\"gender\"].value_counts())\n",
    "print(df.head())"
   ]
  },
  {
   "cell_type": "code",
   "execution_count": 16,
   "id": "db408ce6",
   "metadata": {},
   "outputs": [
    {
     "name": "stdout",
     "output_type": "stream",
     "text": [
      "✅ Saved 24134 unique name-gender pairs to 'henko_unique_name_gender.csv'\n"
     ]
    }
   ],
   "source": [
    "import pandas as pd\n",
    "\n",
    "# Assuming 'data' is already created from your SPARQL query\n",
    "# data = [(name1, gender1), (name2, gender2), ...]\n",
    "\n",
    "# Convert to DataFrame\n",
    "df = pd.DataFrame(data, columns=[\"name\", \"gender\"])\n",
    "\n",
    "# Drop duplicate rows\n",
    "df_unique = df.drop_duplicates()\n",
    "\n",
    "# Save to CSV\n",
    "df_unique.to_csv(\"henko_unique_name_gender.csv\", index=False)\n",
    "\n",
    "print(f\"✅ Saved {len(df_unique)} unique name-gender pairs to 'henko_unique_name_gender.csv'\")\n"
   ]
  },
  {
   "cell_type": "code",
   "execution_count": 18,
   "id": "a91b3020",
   "metadata": {},
   "outputs": [
    {
     "name": "stdout",
     "output_type": "stream",
     "text": [
      "gender\n",
      "Female    13227\n",
      "Male      10907\n",
      "Name: count, dtype: int64\n",
      "      name gender\n",
      "0   Juhani   Male\n",
      "1    Olavi   Male\n",
      "2  Petteri   Male\n",
      "3     Otto   Male\n",
      "4   Niilas   Male\n"
     ]
    }
   ],
   "source": [
    "print(df_unique[\"gender\"].value_counts())\n",
    "print(df_unique.head())"
   ]
  }
 ],
 "metadata": {
  "kernelspec": {
   "display_name": "fennica",
   "language": "python",
   "name": "python3"
  },
  "language_info": {
   "codemirror_mode": {
    "name": "ipython",
    "version": 3
   },
   "file_extension": ".py",
   "mimetype": "text/x-python",
   "name": "python",
   "nbconvert_exporter": "python",
   "pygments_lexer": "ipython3",
   "version": "3.10.13"
  }
 },
 "nbformat": 4,
 "nbformat_minor": 5
}
